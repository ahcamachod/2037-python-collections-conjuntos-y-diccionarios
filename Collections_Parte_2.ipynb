{
  "nbformat": 4,
  "nbformat_minor": 0,
  "metadata": {
    "colab": {
      "provenance": [],
      "authorship_tag": "ABX9TyMahG8gWhAc9ZUV2kg1+4TE",
      "include_colab_link": true
    },
    "kernelspec": {
      "name": "python3",
      "display_name": "Python 3"
    },
    "language_info": {
      "name": "python"
    }
  },
  "cells": [
    {
      "cell_type": "markdown",
      "metadata": {
        "id": "view-in-github",
        "colab_type": "text"
      },
      "source": [
        "<a href=\"https://colab.research.google.com/github/ahcamachod/2037-python-collections-conjuntos-y-diccionarios/blob/aula-5/Collections_Parte_2.ipynb\" target=\"_parent\"><img src=\"https://colab.research.google.com/assets/colab-badge.svg\" alt=\"Open In Colab\"/></a>"
      ]
    },
    {
      "cell_type": "code",
      "execution_count": null,
      "metadata": {
        "id": "i3FvBGkqKtTa"
      },
      "outputs": [],
      "source": [
        "usuarios_ds = [15,23,43,56]\n",
        "usuarios_ml = [65,15,56,72]"
      ]
    },
    {
      "cell_type": "code",
      "source": [
        "usuarios = []\n",
        "usuarios.extend(usuarios_ds)"
      ],
      "metadata": {
        "id": "naxvbLsqLOWC"
      },
      "execution_count": null,
      "outputs": []
    },
    {
      "cell_type": "code",
      "source": [
        "usuarios.extend(usuarios_ml)\n",
        "usuarios"
      ],
      "metadata": {
        "colab": {
          "base_uri": "https://localhost:8080/"
        },
        "id": "bzoJCS6nLboT",
        "outputId": "d790808c-ba0d-4dc1-a98b-067c1da792ca"
      },
      "execution_count": null,
      "outputs": [
        {
          "output_type": "execute_result",
          "data": {
            "text/plain": [
              "[15, 23, 43, 56, 65, 15, 56, 72]"
            ]
          },
          "metadata": {},
          "execution_count": 3
        }
      ]
    },
    {
      "cell_type": "code",
      "source": [
        "usuarios = usuarios_ds.copy()\n",
        "usuarios.extend(usuarios_ml)\n",
        "usuarios"
      ],
      "metadata": {
        "colab": {
          "base_uri": "https://localhost:8080/"
        },
        "id": "L6YPzxuZLlTR",
        "outputId": "d2b0b73e-9ef4-4f3a-b697-2cb5b62ac5e5"
      },
      "execution_count": null,
      "outputs": [
        {
          "output_type": "execute_result",
          "data": {
            "text/plain": [
              "[15, 23, 43, 56, 65, 15, 56, 72]"
            ]
          },
          "metadata": {},
          "execution_count": 4
        }
      ]
    },
    {
      "cell_type": "code",
      "source": [
        "usuarios = set(usuarios)"
      ],
      "metadata": {
        "id": "XN7YRQGlML1-"
      },
      "execution_count": null,
      "outputs": []
    },
    {
      "cell_type": "code",
      "source": [
        "usuarios[2]"
      ],
      "metadata": {
        "colab": {
          "base_uri": "https://localhost:8080/",
          "height": 179
        },
        "id": "XQZA7lHhM0ei",
        "outputId": "b9763b6c-33fd-4ef1-c89b-0c5e715f4883"
      },
      "execution_count": null,
      "outputs": [
        {
          "output_type": "error",
          "ename": "TypeError",
          "evalue": "ignored",
          "traceback": [
            "\u001b[0;31m---------------------------------------------------------------------------\u001b[0m",
            "\u001b[0;31mTypeError\u001b[0m                                 Traceback (most recent call last)",
            "\u001b[0;32m<ipython-input-6-486f464f3204>\u001b[0m in \u001b[0;36m<cell line: 1>\u001b[0;34m()\u001b[0m\n\u001b[0;32m----> 1\u001b[0;31m \u001b[0musuarios\u001b[0m\u001b[0;34m[\u001b[0m\u001b[0;36m2\u001b[0m\u001b[0;34m]\u001b[0m\u001b[0;34m\u001b[0m\u001b[0;34m\u001b[0m\u001b[0m\n\u001b[0m",
            "\u001b[0;31mTypeError\u001b[0m: 'set' object is not subscriptable"
          ]
        }
      ]
    },
    {
      "cell_type": "code",
      "source": [
        "for usuario in usuarios:\n",
        "  print(usuario)"
      ],
      "metadata": {
        "colab": {
          "base_uri": "https://localhost:8080/"
        },
        "id": "nJkZqJsENB5t",
        "outputId": "29ec863b-edee-4942-d40e-f76c5fb1c97d"
      },
      "execution_count": null,
      "outputs": [
        {
          "output_type": "stream",
          "name": "stdout",
          "text": [
            "65\n",
            "72\n",
            "43\n",
            "15\n",
            "23\n",
            "56\n"
          ]
        }
      ]
    },
    {
      "cell_type": "code",
      "source": [
        "set(usuarios_ds) | set(usuarios_ml)"
      ],
      "metadata": {
        "colab": {
          "base_uri": "https://localhost:8080/"
        },
        "id": "X9K3Ybz3NKk7",
        "outputId": "bf0d2c3b-78e2-485d-b2cd-17115ee62993"
      },
      "execution_count": null,
      "outputs": [
        {
          "output_type": "execute_result",
          "data": {
            "text/plain": [
              "{15, 23, 43, 56, 65, 72}"
            ]
          },
          "metadata": {},
          "execution_count": 8
        }
      ]
    },
    {
      "cell_type": "code",
      "source": [
        "set(usuarios_ds) & set(usuarios_ml)"
      ],
      "metadata": {
        "colab": {
          "base_uri": "https://localhost:8080/"
        },
        "id": "ix2za9KPNtDh",
        "outputId": "5980119c-4816-45a3-8271-a1df0ff2341a"
      },
      "execution_count": null,
      "outputs": [
        {
          "output_type": "execute_result",
          "data": {
            "text/plain": [
              "{15, 56}"
            ]
          },
          "metadata": {},
          "execution_count": 9
        }
      ]
    },
    {
      "cell_type": "code",
      "source": [
        "usuarios_sin_ml = set(usuarios_ds) - set(usuarios_ml)\n",
        "usuarios_sin_ml"
      ],
      "metadata": {
        "colab": {
          "base_uri": "https://localhost:8080/"
        },
        "id": "n2gqTYXAPd0A",
        "outputId": "f4874635-3908-4140-fb4b-f43ee1a5415d"
      },
      "execution_count": null,
      "outputs": [
        {
          "output_type": "execute_result",
          "data": {
            "text/plain": [
              "{23, 43}"
            ]
          },
          "metadata": {},
          "execution_count": 10
        }
      ]
    },
    {
      "cell_type": "code",
      "source": [
        "set(usuarios_ds) ^ set(usuarios_ml)"
      ],
      "metadata": {
        "colab": {
          "base_uri": "https://localhost:8080/"
        },
        "id": "HtYRff6TPufV",
        "outputId": "0c32b0c8-2022-4255-a600-c537cc4a5d0c"
      },
      "execution_count": null,
      "outputs": [
        {
          "output_type": "execute_result",
          "data": {
            "text/plain": [
              "{23, 43, 65, 72}"
            ]
          },
          "metadata": {},
          "execution_count": 11
        }
      ]
    },
    {
      "cell_type": "code",
      "source": [
        "usuarios = {1, 5, 32, 68, 78, 99, 37}\n",
        "usuarios.add(99)\n",
        "usuarios"
      ],
      "metadata": {
        "colab": {
          "base_uri": "https://localhost:8080/"
        },
        "id": "WKGggD2YQIlc",
        "outputId": "376bbd04-583c-490a-96ed-ab93a5934abc"
      },
      "execution_count": null,
      "outputs": [
        {
          "output_type": "execute_result",
          "data": {
            "text/plain": [
              "{1, 5, 32, 37, 68, 78, 99}"
            ]
          },
          "metadata": {},
          "execution_count": 12
        }
      ]
    },
    {
      "cell_type": "code",
      "source": [
        "usuarios.add(9)\n",
        "usuarios"
      ],
      "metadata": {
        "colab": {
          "base_uri": "https://localhost:8080/"
        },
        "id": "-bTYtVu-SxS2",
        "outputId": "4bc8d8a9-a943-4825-9736-cf28ba18991e"
      },
      "execution_count": null,
      "outputs": [
        {
          "output_type": "execute_result",
          "data": {
            "text/plain": [
              "{1, 5, 9, 32, 37, 68, 78, 99}"
            ]
          },
          "metadata": {},
          "execution_count": 13
        }
      ]
    },
    {
      "cell_type": "code",
      "source": [
        "usuarios.remove(99)\n",
        "usuarios"
      ],
      "metadata": {
        "colab": {
          "base_uri": "https://localhost:8080/"
        },
        "id": "NTkoHzfdS2CG",
        "outputId": "610977b9-884a-43a1-d77b-58cccbdb04ca"
      },
      "execution_count": null,
      "outputs": [
        {
          "output_type": "execute_result",
          "data": {
            "text/plain": [
              "{1, 5, 9, 32, 37, 68, 78}"
            ]
          },
          "metadata": {},
          "execution_count": 14
        }
      ]
    },
    {
      "cell_type": "code",
      "source": [
        "usuarios.discard(99)\n",
        "usuarios"
      ],
      "metadata": {
        "colab": {
          "base_uri": "https://localhost:8080/"
        },
        "id": "zPAn_m7fTJ8n",
        "outputId": "70bff7bf-36ec-41e1-d4f9-02e75e5f56eb"
      },
      "execution_count": null,
      "outputs": [
        {
          "output_type": "execute_result",
          "data": {
            "text/plain": [
              "{1, 5, 9, 32, 37, 68, 78}"
            ]
          },
          "metadata": {},
          "execution_count": 15
        }
      ]
    },
    {
      "cell_type": "code",
      "source": [
        "25 in usuarios"
      ],
      "metadata": {
        "colab": {
          "base_uri": "https://localhost:8080/"
        },
        "id": "_h3wkE5bTQsi",
        "outputId": "9b023ba9-ff91-4f22-94cd-9a59693df558"
      },
      "execution_count": null,
      "outputs": [
        {
          "output_type": "execute_result",
          "data": {
            "text/plain": [
              "False"
            ]
          },
          "metadata": {},
          "execution_count": 16
        }
      ]
    },
    {
      "cell_type": "code",
      "source": [
        "9 in usuarios"
      ],
      "metadata": {
        "colab": {
          "base_uri": "https://localhost:8080/"
        },
        "id": "qO1WSZfmTaV2",
        "outputId": "e8a79e8c-61fd-4203-e848-2fd78643f5cd"
      },
      "execution_count": null,
      "outputs": [
        {
          "output_type": "execute_result",
          "data": {
            "text/plain": [
              "True"
            ]
          },
          "metadata": {},
          "execution_count": 17
        }
      ]
    },
    {
      "cell_type": "code",
      "source": [
        "usuarios.clear()"
      ],
      "metadata": {
        "id": "Ts3hpBwnTc9M"
      },
      "execution_count": null,
      "outputs": []
    },
    {
      "cell_type": "code",
      "source": [
        "usuarios"
      ],
      "metadata": {
        "colab": {
          "base_uri": "https://localhost:8080/"
        },
        "id": "qfqNhmf9TlF8",
        "outputId": "69a6f51f-6387-4b5d-ff7c-9d03939dc3d9"
      },
      "execution_count": null,
      "outputs": [
        {
          "output_type": "execute_result",
          "data": {
            "text/plain": [
              "set()"
            ]
          },
          "metadata": {},
          "execution_count": 19
        }
      ]
    },
    {
      "cell_type": "code",
      "source": [
        "\n",
        "\n",
        "\n",
        "usuarios = {1, 5, 32, 68, 78, 99, 37}\n",
        "usuarios = frozenset(usuarios)\n",
        "type(usuarios)"
      ],
      "metadata": {
        "colab": {
          "base_uri": "https://localhost:8080/"
        },
        "id": "g4mDFP8qTmNb",
        "outputId": "339952ea-2035-485b-b6c8-92fc67e6576d"
      },
      "execution_count": null,
      "outputs": [
        {
          "output_type": "execute_result",
          "data": {
            "text/plain": [
              "frozenset"
            ]
          },
          "metadata": {},
          "execution_count": 20
        }
      ]
    },
    {
      "cell_type": "code",
      "source": [
        "usuarios.add(9)"
      ],
      "metadata": {
        "colab": {
          "base_uri": "https://localhost:8080/",
          "height": 179
        },
        "id": "TswdXPDWT5dv",
        "outputId": "db7ed8b2-7055-4220-8470-02642f6e3849"
      },
      "execution_count": null,
      "outputs": [
        {
          "output_type": "error",
          "ename": "AttributeError",
          "evalue": "ignored",
          "traceback": [
            "\u001b[0;31m---------------------------------------------------------------------------\u001b[0m",
            "\u001b[0;31mAttributeError\u001b[0m                            Traceback (most recent call last)",
            "\u001b[0;32m<ipython-input-21-f819eb3def0f>\u001b[0m in \u001b[0;36m<cell line: 1>\u001b[0;34m()\u001b[0m\n\u001b[0;32m----> 1\u001b[0;31m \u001b[0musuarios\u001b[0m\u001b[0;34m.\u001b[0m\u001b[0madd\u001b[0m\u001b[0;34m(\u001b[0m\u001b[0;36m9\u001b[0m\u001b[0;34m)\u001b[0m\u001b[0;34m\u001b[0m\u001b[0;34m\u001b[0m\u001b[0m\n\u001b[0m",
            "\u001b[0;31mAttributeError\u001b[0m: 'frozenset' object has no attribute 'add'"
          ]
        }
      ]
    },
    {
      "cell_type": "code",
      "source": [
        "mi_texto = 'Mi nombre es Álvaro, tengo 39 años, tengo 2 hijos, tengo 2 perros, me encanta la tecnología, me encanta la ciencia de datos.'\n",
        "mi_texto.split()"
      ],
      "metadata": {
        "colab": {
          "base_uri": "https://localhost:8080/"
        },
        "id": "OJJ1oPmiT8ZO",
        "outputId": "41ae12ab-c0a4-4226-d328-c94297eb357b"
      },
      "execution_count": null,
      "outputs": [
        {
          "output_type": "execute_result",
          "data": {
            "text/plain": [
              "['Mi',\n",
              " 'nombre',\n",
              " 'es',\n",
              " 'Álvaro,',\n",
              " 'tengo',\n",
              " '39',\n",
              " 'años,',\n",
              " 'tengo',\n",
              " '2',\n",
              " 'hijos,',\n",
              " 'tengo',\n",
              " '2',\n",
              " 'perros,',\n",
              " 'me',\n",
              " 'encanta',\n",
              " 'la',\n",
              " 'tecnología,',\n",
              " 'me',\n",
              " 'encanta',\n",
              " 'la',\n",
              " 'ciencia',\n",
              " 'de',\n",
              " 'datos.']"
            ]
          },
          "metadata": {},
          "execution_count": 22
        }
      ]
    },
    {
      "cell_type": "code",
      "source": [
        "set(mi_texto.split())"
      ],
      "metadata": {
        "colab": {
          "base_uri": "https://localhost:8080/"
        },
        "id": "EVYr6SBeUlpY",
        "outputId": "c14d76f5-d1dd-4de0-d191-22dad5fec064"
      },
      "execution_count": null,
      "outputs": [
        {
          "output_type": "execute_result",
          "data": {
            "text/plain": [
              "{'2',\n",
              " '39',\n",
              " 'Mi',\n",
              " 'años,',\n",
              " 'ciencia',\n",
              " 'datos.',\n",
              " 'de',\n",
              " 'encanta',\n",
              " 'es',\n",
              " 'hijos,',\n",
              " 'la',\n",
              " 'me',\n",
              " 'nombre',\n",
              " 'perros,',\n",
              " 'tecnología,',\n",
              " 'tengo',\n",
              " 'Álvaro,'}"
            ]
          },
          "metadata": {},
          "execution_count": 23
        }
      ]
    },
    {
      "cell_type": "code",
      "source": [
        "print(len(mi_texto.split()))\n",
        "print(len(set(mi_texto.split())))"
      ],
      "metadata": {
        "colab": {
          "base_uri": "https://localhost:8080/"
        },
        "id": "J38WM65KUugh",
        "outputId": "1a249288-5e62-44f2-bbf2-a8ffaa333ac8"
      },
      "execution_count": null,
      "outputs": [
        {
          "output_type": "stream",
          "name": "stdout",
          "text": [
            "23\n",
            "17\n"
          ]
        }
      ]
    },
    {
      "cell_type": "code",
      "source": [
        "frecuencias= {\n",
        "              'Álvaro': 1,\n",
        "              'encanta': 2,\n",
        "              'me': 2,\n",
        "              '2' : 2,\n",
        "              }\n",
        "\n",
        "type(frecuencias)"
      ],
      "metadata": {
        "colab": {
          "base_uri": "https://localhost:8080/"
        },
        "id": "mAq0zhZRU461",
        "outputId": "384e9ad9-9655-4aa2-811e-b275feb4b85d"
      },
      "execution_count": null,
      "outputs": [
        {
          "output_type": "execute_result",
          "data": {
            "text/plain": [
              "dict"
            ]
          },
          "metadata": {},
          "execution_count": 25
        }
      ]
    },
    {
      "cell_type": "code",
      "source": [
        "frecuencias['2']"
      ],
      "metadata": {
        "colab": {
          "base_uri": "https://localhost:8080/"
        },
        "id": "CH0HIg73aID4",
        "outputId": "1e18f4e4-82ff-4295-91d7-aaa269c9a496"
      },
      "execution_count": null,
      "outputs": [
        {
          "output_type": "execute_result",
          "data": {
            "text/plain": [
              "2"
            ]
          },
          "metadata": {},
          "execution_count": 26
        }
      ]
    },
    {
      "cell_type": "code",
      "source": [
        "frecuencias['Álvaro']"
      ],
      "metadata": {
        "colab": {
          "base_uri": "https://localhost:8080/"
        },
        "id": "4abyJw1TaRo-",
        "outputId": "3ef2335e-e501-4252-85d8-12c3f07484b9"
      },
      "execution_count": null,
      "outputs": [
        {
          "output_type": "execute_result",
          "data": {
            "text/plain": [
              "1"
            ]
          },
          "metadata": {},
          "execution_count": 27
        }
      ]
    },
    {
      "cell_type": "code",
      "source": [
        "frecuencias['gusta']"
      ],
      "metadata": {
        "colab": {
          "base_uri": "https://localhost:8080/",
          "height": 179
        },
        "id": "aru3V8cZaVqT",
        "outputId": "6915faa3-f8e6-4e39-efc8-c86e57c8b820"
      },
      "execution_count": null,
      "outputs": [
        {
          "output_type": "error",
          "ename": "KeyError",
          "evalue": "ignored",
          "traceback": [
            "\u001b[0;31m---------------------------------------------------------------------------\u001b[0m",
            "\u001b[0;31mKeyError\u001b[0m                                  Traceback (most recent call last)",
            "\u001b[0;32m<ipython-input-28-f4e9679ed717>\u001b[0m in \u001b[0;36m<cell line: 1>\u001b[0;34m()\u001b[0m\n\u001b[0;32m----> 1\u001b[0;31m \u001b[0mfrecuencias\u001b[0m\u001b[0;34m[\u001b[0m\u001b[0;34m'gusta'\u001b[0m\u001b[0;34m]\u001b[0m\u001b[0;34m\u001b[0m\u001b[0;34m\u001b[0m\u001b[0m\n\u001b[0m",
            "\u001b[0;31mKeyError\u001b[0m: 'gusta'"
          ]
        }
      ]
    },
    {
      "cell_type": "code",
      "source": [
        "frecuencias.get('gusta',0)"
      ],
      "metadata": {
        "colab": {
          "base_uri": "https://localhost:8080/"
        },
        "id": "hK1qkmf6aby3",
        "outputId": "7cf8f7c1-7848-4e2e-d2bd-575790f8316b"
      },
      "execution_count": null,
      "outputs": [
        {
          "output_type": "execute_result",
          "data": {
            "text/plain": [
              "0"
            ]
          },
          "metadata": {},
          "execution_count": 29
        }
      ]
    },
    {
      "cell_type": "code",
      "source": [
        "frecuencias.get('encanta',0)"
      ],
      "metadata": {
        "colab": {
          "base_uri": "https://localhost:8080/"
        },
        "id": "olwWjHpTapNm",
        "outputId": "8d1b077b-8fb7-4c71-c4b6-8a1cd641ee53"
      },
      "execution_count": null,
      "outputs": [
        {
          "output_type": "execute_result",
          "data": {
            "text/plain": [
              "2"
            ]
          },
          "metadata": {},
          "execution_count": 30
        }
      ]
    },
    {
      "cell_type": "code",
      "source": [
        "frecuencias = dict(Álvaro=1,encanta=2)\n",
        "frecuencias"
      ],
      "metadata": {
        "colab": {
          "base_uri": "https://localhost:8080/"
        },
        "id": "d-80q6Ivavkr",
        "outputId": "10a9e14f-7765-49b1-efe1-27bd76cecf39"
      },
      "execution_count": null,
      "outputs": [
        {
          "output_type": "execute_result",
          "data": {
            "text/plain": [
              "{'Álvaro': 1, 'encanta': 2}"
            ]
          },
          "metadata": {},
          "execution_count": 31
        }
      ]
    },
    {
      "cell_type": "code",
      "source": [
        "frecuencias= {\n",
        "              'Álvaro': 1,\n",
        "              'encanta': 2,\n",
        "              'me': 2,\n",
        "              '2' : 2,\n",
        "              }\n",
        "frecuencias['Carlos'] = 5\n",
        "frecuencias"
      ],
      "metadata": {
        "colab": {
          "base_uri": "https://localhost:8080/"
        },
        "id": "W-ecHM91dozq",
        "outputId": "bfe8aa36-baac-4dc7-83ab-ae517c4c7077"
      },
      "execution_count": null,
      "outputs": [
        {
          "output_type": "execute_result",
          "data": {
            "text/plain": [
              "{'Álvaro': 1, 'encanta': 2, 'me': 2, '2': 2, 'Carlos': 5}"
            ]
          },
          "metadata": {},
          "execution_count": 32
        }
      ]
    },
    {
      "cell_type": "code",
      "source": [
        "frecuencias['Carlos'] = 2"
      ],
      "metadata": {
        "id": "ZZ5wxI51dw_P"
      },
      "execution_count": null,
      "outputs": []
    },
    {
      "cell_type": "code",
      "source": [
        "frecuencias"
      ],
      "metadata": {
        "colab": {
          "base_uri": "https://localhost:8080/"
        },
        "id": "J28ZBSgwd20l",
        "outputId": "c8d38f01-918d-4ba2-e1c5-ae0ba27555a3"
      },
      "execution_count": null,
      "outputs": [
        {
          "output_type": "execute_result",
          "data": {
            "text/plain": [
              "{'Álvaro': 1, 'encanta': 2, 'me': 2, '2': 2, 'Carlos': 2}"
            ]
          },
          "metadata": {},
          "execution_count": 34
        }
      ]
    },
    {
      "cell_type": "code",
      "source": [
        "del frecuencias['Carlos']"
      ],
      "metadata": {
        "id": "LFg71dNvd4yb"
      },
      "execution_count": null,
      "outputs": []
    },
    {
      "cell_type": "code",
      "source": [
        "frecuencias"
      ],
      "metadata": {
        "colab": {
          "base_uri": "https://localhost:8080/"
        },
        "id": "rSCQ3On4eFTx",
        "outputId": "c4e09da6-63a6-4631-c2ac-d47f8f492d43"
      },
      "execution_count": null,
      "outputs": [
        {
          "output_type": "execute_result",
          "data": {
            "text/plain": [
              "{'Álvaro': 1, 'encanta': 2, 'me': 2, '2': 2}"
            ]
          },
          "metadata": {},
          "execution_count": 36
        }
      ]
    },
    {
      "cell_type": "code",
      "source": [
        "'Carlos' in frecuencias"
      ],
      "metadata": {
        "colab": {
          "base_uri": "https://localhost:8080/"
        },
        "id": "1sNBN_VpeISw",
        "outputId": "cc323c84-29e3-4ca7-ff03-596311bd2eac"
      },
      "execution_count": null,
      "outputs": [
        {
          "output_type": "execute_result",
          "data": {
            "text/plain": [
              "False"
            ]
          },
          "metadata": {},
          "execution_count": 37
        }
      ]
    },
    {
      "cell_type": "code",
      "source": [
        "'Álvaro' in frecuencias"
      ],
      "metadata": {
        "colab": {
          "base_uri": "https://localhost:8080/"
        },
        "id": "cdlM5j2neLu0",
        "outputId": "cb4fd893-6d65-4257-a8c1-092509eb5ee2"
      },
      "execution_count": null,
      "outputs": [
        {
          "output_type": "execute_result",
          "data": {
            "text/plain": [
              "True"
            ]
          },
          "metadata": {},
          "execution_count": 38
        }
      ]
    },
    {
      "cell_type": "code",
      "source": [
        "for elemento in frecuencias:\n",
        "  print(elemento)"
      ],
      "metadata": {
        "colab": {
          "base_uri": "https://localhost:8080/"
        },
        "id": "6k6JM5xieO8H",
        "outputId": "b86329dd-4eb4-4007-9900-434c767eba4b"
      },
      "execution_count": null,
      "outputs": [
        {
          "output_type": "stream",
          "name": "stdout",
          "text": [
            "Álvaro\n",
            "encanta\n",
            "me\n",
            "2\n"
          ]
        }
      ]
    },
    {
      "cell_type": "code",
      "source": [
        "for elemento in frecuencias.keys():\n",
        "  print(elemento)"
      ],
      "metadata": {
        "colab": {
          "base_uri": "https://localhost:8080/"
        },
        "id": "FtQDzX74eWSe",
        "outputId": "d90c8f85-fbb2-4ec8-ee3d-98f517bddcda"
      },
      "execution_count": null,
      "outputs": [
        {
          "output_type": "stream",
          "name": "stdout",
          "text": [
            "Álvaro\n",
            "encanta\n",
            "me\n",
            "2\n"
          ]
        }
      ]
    },
    {
      "cell_type": "code",
      "source": [
        "for elemento in frecuencias.values():\n",
        "  print(elemento)"
      ],
      "metadata": {
        "colab": {
          "base_uri": "https://localhost:8080/"
        },
        "id": "vRyQ55BveegJ",
        "outputId": "a1d19022-ef14-4191-84bd-5a9ac4706ed7"
      },
      "execution_count": null,
      "outputs": [
        {
          "output_type": "stream",
          "name": "stdout",
          "text": [
            "1\n",
            "2\n",
            "2\n",
            "2\n"
          ]
        }
      ]
    },
    {
      "cell_type": "code",
      "source": [
        "for elemento in frecuencias.items():\n",
        "  print(elemento)"
      ],
      "metadata": {
        "colab": {
          "base_uri": "https://localhost:8080/"
        },
        "id": "8lDO4QrPejxL",
        "outputId": "dc8da0ef-b6dc-4bdb-9563-b0a7bb63cdb6"
      },
      "execution_count": null,
      "outputs": [
        {
          "output_type": "stream",
          "name": "stdout",
          "text": [
            "('Álvaro', 1)\n",
            "('encanta', 2)\n",
            "('me', 2)\n",
            "('2', 2)\n"
          ]
        }
      ]
    },
    {
      "cell_type": "code",
      "source": [
        "for llave, valor in frecuencias.items():\n",
        "  print(llave, ' => ', valor)"
      ],
      "metadata": {
        "colab": {
          "base_uri": "https://localhost:8080/"
        },
        "id": "sSgBbj5Teusw",
        "outputId": "b239ce5a-a161-47cc-b9d8-ea8ed706eb0e"
      },
      "execution_count": null,
      "outputs": [
        {
          "output_type": "stream",
          "name": "stdout",
          "text": [
            "Álvaro  =>  1\n",
            "encanta  =>  2\n",
            "me  =>  2\n",
            "2  =>  2\n"
          ]
        }
      ]
    },
    {
      "cell_type": "code",
      "source": [
        "[f'Palabra {llave}' for llave in frecuencias.keys()]"
      ],
      "metadata": {
        "colab": {
          "base_uri": "https://localhost:8080/"
        },
        "id": "HgGmvOSRe2wI",
        "outputId": "3abc1801-7ad2-40b4-dac3-a41a0314be66"
      },
      "execution_count": null,
      "outputs": [
        {
          "output_type": "execute_result",
          "data": {
            "text/plain": [
              "['Palabra Álvaro', 'Palabra encanta', 'Palabra me', 'Palabra 2']"
            ]
          },
          "metadata": {},
          "execution_count": 47
        }
      ]
    },
    {
      "cell_type": "code",
      "source": [
        "mi_texto = 'Mi nombre es Álvaro, tengo 39 años, tengo 2 hijos, tengo 2 perros, me encanta la tecnología, me encanta la ciencia de datos.'\n",
        "mi_texto = mi_texto.replace(',','').lower()\n",
        "mi_texto"
      ],
      "metadata": {
        "colab": {
          "base_uri": "https://localhost:8080/",
          "height": 53
        },
        "id": "eccuXlpMk1hq",
        "outputId": "4e724f68-9f40-4657-d430-d07bffc5b9c3"
      },
      "execution_count": null,
      "outputs": [
        {
          "output_type": "execute_result",
          "data": {
            "text/plain": [
              "'mi nombre es álvaro tengo 39 años tengo 2 hijos tengo 2 perros me encanta la tecnología me encanta la ciencia de datos.'"
            ],
            "application/vnd.google.colaboratory.intrinsic+json": {
              "type": "string"
            }
          },
          "metadata": {},
          "execution_count": 48
        }
      ]
    },
    {
      "cell_type": "code",
      "source": [
        "frecuencias = {}\n",
        "for palabra in mi_texto.split():\n",
        "  contador = frecuencias[palabra]\n",
        "  frecuencias[palabra] = contador + 1"
      ],
      "metadata": {
        "colab": {
          "base_uri": "https://localhost:8080/",
          "height": 233
        },
        "id": "Z_-QuM3Dli25",
        "outputId": "515321e0-9342-475b-fa3d-273c3dada6c6"
      },
      "execution_count": null,
      "outputs": [
        {
          "output_type": "error",
          "ename": "KeyError",
          "evalue": "ignored",
          "traceback": [
            "\u001b[0;31m---------------------------------------------------------------------------\u001b[0m",
            "\u001b[0;31mKeyError\u001b[0m                                  Traceback (most recent call last)",
            "\u001b[0;32m<ipython-input-49-d9086e370337>\u001b[0m in \u001b[0;36m<cell line: 2>\u001b[0;34m()\u001b[0m\n\u001b[1;32m      1\u001b[0m \u001b[0mfrecuencias\u001b[0m \u001b[0;34m=\u001b[0m \u001b[0;34m{\u001b[0m\u001b[0;34m}\u001b[0m\u001b[0;34m\u001b[0m\u001b[0;34m\u001b[0m\u001b[0m\n\u001b[1;32m      2\u001b[0m \u001b[0;32mfor\u001b[0m \u001b[0mpalabra\u001b[0m \u001b[0;32min\u001b[0m \u001b[0mmi_texto\u001b[0m\u001b[0;34m.\u001b[0m\u001b[0msplit\u001b[0m\u001b[0;34m(\u001b[0m\u001b[0;34m)\u001b[0m\u001b[0;34m:\u001b[0m\u001b[0;34m\u001b[0m\u001b[0;34m\u001b[0m\u001b[0m\n\u001b[0;32m----> 3\u001b[0;31m   \u001b[0mcontador\u001b[0m \u001b[0;34m=\u001b[0m \u001b[0mfrecuencias\u001b[0m\u001b[0;34m[\u001b[0m\u001b[0mpalabra\u001b[0m\u001b[0;34m]\u001b[0m\u001b[0;34m\u001b[0m\u001b[0;34m\u001b[0m\u001b[0m\n\u001b[0m\u001b[1;32m      4\u001b[0m   \u001b[0mfrecuencias\u001b[0m\u001b[0;34m[\u001b[0m\u001b[0mpalabra\u001b[0m\u001b[0;34m]\u001b[0m \u001b[0;34m=\u001b[0m \u001b[0mcontador\u001b[0m \u001b[0;34m+\u001b[0m \u001b[0;36m1\u001b[0m\u001b[0;34m\u001b[0m\u001b[0;34m\u001b[0m\u001b[0m\n",
            "\u001b[0;31mKeyError\u001b[0m: 'mi'"
          ]
        }
      ]
    },
    {
      "cell_type": "code",
      "source": [
        "frecuencias = {}\n",
        "for palabra in mi_texto.split():\n",
        "  contador = frecuencias.get(palabra,0)\n",
        "  frecuencias[palabra] = contador + 1\n",
        "\n",
        "print(frecuencias)"
      ],
      "metadata": {
        "colab": {
          "base_uri": "https://localhost:8080/"
        },
        "id": "_xMhCka2l_q5",
        "outputId": "e996471d-ae20-45cc-fc7d-bb799c127ab8"
      },
      "execution_count": null,
      "outputs": [
        {
          "output_type": "stream",
          "name": "stdout",
          "text": [
            "{'mi': 1, 'nombre': 1, 'es': 1, 'álvaro': 1, 'tengo': 3, '39': 1, 'años': 1, '2': 2, 'hijos': 1, 'perros': 1, 'me': 2, 'encanta': 2, 'la': 2, 'tecnología': 1, 'ciencia': 1, 'de': 1, 'datos.': 1}\n"
          ]
        }
      ]
    },
    {
      "cell_type": "code",
      "source": [
        "from collections import defaultdict\n",
        "\n",
        "frecuencias = defaultdict(int)\n",
        "frecuencias"
      ],
      "metadata": {
        "colab": {
          "base_uri": "https://localhost:8080/"
        },
        "id": "8prPETROmNpt",
        "outputId": "0f1e0fbf-7bb9-4f31-cd2b-fe589fe3e0e5"
      },
      "execution_count": null,
      "outputs": [
        {
          "output_type": "execute_result",
          "data": {
            "text/plain": [
              "defaultdict(int, {})"
            ]
          },
          "metadata": {},
          "execution_count": 51
        }
      ]
    },
    {
      "cell_type": "code",
      "source": [
        "frecuencias = defaultdict(int)\n",
        "\n",
        "for palabra in mi_texto.split():\n",
        "  frecuencias[palabra] += 1\n",
        "\n",
        "frecuencias"
      ],
      "metadata": {
        "colab": {
          "base_uri": "https://localhost:8080/"
        },
        "id": "2WjOhDH2nE5W",
        "outputId": "60386edb-a400-481d-a93c-32366050b604"
      },
      "execution_count": null,
      "outputs": [
        {
          "output_type": "execute_result",
          "data": {
            "text/plain": [
              "defaultdict(int,\n",
              "            {'mi': 1,\n",
              "             'nombre': 1,\n",
              "             'es': 1,\n",
              "             'álvaro': 1,\n",
              "             'tengo': 3,\n",
              "             '39': 1,\n",
              "             'años': 1,\n",
              "             '2': 2,\n",
              "             'hijos': 1,\n",
              "             'perros': 1,\n",
              "             'me': 2,\n",
              "             'encanta': 2,\n",
              "             'la': 2,\n",
              "             'tecnología': 1,\n",
              "             'ciencia': 1,\n",
              "             'de': 1,\n",
              "             'datos.': 1})"
            ]
          },
          "metadata": {},
          "execution_count": 52
        }
      ]
    },
    {
      "cell_type": "code",
      "source": [
        "class Cuenta:\n",
        "  def __init__(self):\n",
        "    print('Creando una cuenta...')"
      ],
      "metadata": {
        "id": "6oWsdV4e5sp2"
      },
      "execution_count": null,
      "outputs": []
    },
    {
      "cell_type": "code",
      "source": [
        "cuentas = defaultdict(Cuenta)"
      ],
      "metadata": {
        "id": "o2ZIAiH-5-VX"
      },
      "execution_count": null,
      "outputs": []
    },
    {
      "cell_type": "code",
      "source": [
        "cuentas[1]"
      ],
      "metadata": {
        "colab": {
          "base_uri": "https://localhost:8080/"
        },
        "id": "Q47hSPbZ6Ex1",
        "outputId": "5e0a624b-abc0-457b-862b-e380ea1dde71"
      },
      "execution_count": null,
      "outputs": [
        {
          "output_type": "stream",
          "name": "stdout",
          "text": [
            "Creando una cuenta...\n"
          ]
        },
        {
          "output_type": "execute_result",
          "data": {
            "text/plain": [
              "<__main__.Cuenta at 0x7c12363bee00>"
            ]
          },
          "metadata": {},
          "execution_count": 55
        }
      ]
    },
    {
      "cell_type": "code",
      "source": [
        "cuentas[34]"
      ],
      "metadata": {
        "colab": {
          "base_uri": "https://localhost:8080/"
        },
        "id": "-y78D66E6G74",
        "outputId": "a8719137-ac8a-47ac-d7a5-e63f8e95707a"
      },
      "execution_count": null,
      "outputs": [
        {
          "output_type": "stream",
          "name": "stdout",
          "text": [
            "Creando una cuenta...\n"
          ]
        },
        {
          "output_type": "execute_result",
          "data": {
            "text/plain": [
              "<__main__.Cuenta at 0x7c123637ae60>"
            ]
          },
          "metadata": {},
          "execution_count": 57
        }
      ]
    },
    {
      "cell_type": "code",
      "source": [
        "cuentas[1]"
      ],
      "metadata": {
        "colab": {
          "base_uri": "https://localhost:8080/"
        },
        "id": "sivei56B6KBc",
        "outputId": "8f07f22f-7af6-4990-aee2-9314fa18f109"
      },
      "execution_count": null,
      "outputs": [
        {
          "output_type": "execute_result",
          "data": {
            "text/plain": [
              "<__main__.Cuenta at 0x7c12363bee00>"
            ]
          },
          "metadata": {},
          "execution_count": 58
        }
      ]
    },
    {
      "cell_type": "code",
      "source": [
        "from collections import Counter\n",
        "\n",
        "frecuencias = Counter(mi_texto.split())\n",
        "frecuencias"
      ],
      "metadata": {
        "colab": {
          "base_uri": "https://localhost:8080/"
        },
        "id": "68EwUJ4Q6Oer",
        "outputId": "fe439ee0-af18-48cd-ecbe-4ca98d854b9b"
      },
      "execution_count": null,
      "outputs": [
        {
          "output_type": "execute_result",
          "data": {
            "text/plain": [
              "Counter({'mi': 1,\n",
              "         'nombre': 1,\n",
              "         'es': 1,\n",
              "         'álvaro': 1,\n",
              "         'tengo': 3,\n",
              "         '39': 1,\n",
              "         'años': 1,\n",
              "         '2': 2,\n",
              "         'hijos': 1,\n",
              "         'perros': 1,\n",
              "         'me': 2,\n",
              "         'encanta': 2,\n",
              "         'la': 2,\n",
              "         'tecnología': 1,\n",
              "         'ciencia': 1,\n",
              "         'de': 1,\n",
              "         'datos.': 1})"
            ]
          },
          "metadata": {},
          "execution_count": 59
        }
      ]
    }
  ]
}