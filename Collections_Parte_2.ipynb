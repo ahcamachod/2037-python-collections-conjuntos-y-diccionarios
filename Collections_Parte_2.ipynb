{
  "nbformat": 4,
  "nbformat_minor": 0,
  "metadata": {
    "colab": {
      "provenance": [],
      "authorship_tag": "ABX9TyPgCFRRvWf79mlCh8RBLrmC",
      "include_colab_link": true
    },
    "kernelspec": {
      "name": "python3",
      "display_name": "Python 3"
    },
    "language_info": {
      "name": "python"
    }
  },
  "cells": [
    {
      "cell_type": "markdown",
      "metadata": {
        "id": "view-in-github",
        "colab_type": "text"
      },
      "source": [
        "<a href=\"https://colab.research.google.com/github/ahcamachod/2037-python-collections-conjuntos-y-diccionarios/blob/aula-3/Collections_Parte_2.ipynb\" target=\"_parent\"><img src=\"https://colab.research.google.com/assets/colab-badge.svg\" alt=\"Open In Colab\"/></a>"
      ]
    },
    {
      "cell_type": "code",
      "execution_count": null,
      "metadata": {
        "id": "i3FvBGkqKtTa"
      },
      "outputs": [],
      "source": [
        "usuarios_ds = [15,23,43,56]\n",
        "usuarios_ml = [65,15,56,72]"
      ]
    },
    {
      "cell_type": "code",
      "source": [
        "usuarios = []\n",
        "usuarios.extend(usuarios_ds)"
      ],
      "metadata": {
        "id": "naxvbLsqLOWC"
      },
      "execution_count": null,
      "outputs": []
    },
    {
      "cell_type": "code",
      "source": [
        "usuarios.extend(usuarios_ml)\n",
        "usuarios"
      ],
      "metadata": {
        "colab": {
          "base_uri": "https://localhost:8080/"
        },
        "id": "bzoJCS6nLboT",
        "outputId": "d790808c-ba0d-4dc1-a98b-067c1da792ca"
      },
      "execution_count": null,
      "outputs": [
        {
          "output_type": "execute_result",
          "data": {
            "text/plain": [
              "[15, 23, 43, 56, 65, 15, 56, 72]"
            ]
          },
          "metadata": {},
          "execution_count": 3
        }
      ]
    },
    {
      "cell_type": "code",
      "source": [
        "usuarios = usuarios_ds.copy()\n",
        "usuarios.extend(usuarios_ml)\n",
        "usuarios"
      ],
      "metadata": {
        "colab": {
          "base_uri": "https://localhost:8080/"
        },
        "id": "L6YPzxuZLlTR",
        "outputId": "d2b0b73e-9ef4-4f3a-b697-2cb5b62ac5e5"
      },
      "execution_count": null,
      "outputs": [
        {
          "output_type": "execute_result",
          "data": {
            "text/plain": [
              "[15, 23, 43, 56, 65, 15, 56, 72]"
            ]
          },
          "metadata": {},
          "execution_count": 4
        }
      ]
    },
    {
      "cell_type": "code",
      "source": [
        "usuarios = set(usuarios)"
      ],
      "metadata": {
        "id": "XN7YRQGlML1-"
      },
      "execution_count": null,
      "outputs": []
    },
    {
      "cell_type": "code",
      "source": [
        "usuarios[2]"
      ],
      "metadata": {
        "colab": {
          "base_uri": "https://localhost:8080/",
          "height": 179
        },
        "id": "XQZA7lHhM0ei",
        "outputId": "b9763b6c-33fd-4ef1-c89b-0c5e715f4883"
      },
      "execution_count": null,
      "outputs": [
        {
          "output_type": "error",
          "ename": "TypeError",
          "evalue": "ignored",
          "traceback": [
            "\u001b[0;31m---------------------------------------------------------------------------\u001b[0m",
            "\u001b[0;31mTypeError\u001b[0m                                 Traceback (most recent call last)",
            "\u001b[0;32m<ipython-input-6-486f464f3204>\u001b[0m in \u001b[0;36m<cell line: 1>\u001b[0;34m()\u001b[0m\n\u001b[0;32m----> 1\u001b[0;31m \u001b[0musuarios\u001b[0m\u001b[0;34m[\u001b[0m\u001b[0;36m2\u001b[0m\u001b[0;34m]\u001b[0m\u001b[0;34m\u001b[0m\u001b[0;34m\u001b[0m\u001b[0m\n\u001b[0m",
            "\u001b[0;31mTypeError\u001b[0m: 'set' object is not subscriptable"
          ]
        }
      ]
    },
    {
      "cell_type": "code",
      "source": [
        "for usuario in usuarios:\n",
        "  print(usuario)"
      ],
      "metadata": {
        "colab": {
          "base_uri": "https://localhost:8080/"
        },
        "id": "nJkZqJsENB5t",
        "outputId": "29ec863b-edee-4942-d40e-f76c5fb1c97d"
      },
      "execution_count": null,
      "outputs": [
        {
          "output_type": "stream",
          "name": "stdout",
          "text": [
            "65\n",
            "72\n",
            "43\n",
            "15\n",
            "23\n",
            "56\n"
          ]
        }
      ]
    },
    {
      "cell_type": "code",
      "source": [
        "set(usuarios_ds) | set(usuarios_ml)"
      ],
      "metadata": {
        "colab": {
          "base_uri": "https://localhost:8080/"
        },
        "id": "X9K3Ybz3NKk7",
        "outputId": "bf0d2c3b-78e2-485d-b2cd-17115ee62993"
      },
      "execution_count": null,
      "outputs": [
        {
          "output_type": "execute_result",
          "data": {
            "text/plain": [
              "{15, 23, 43, 56, 65, 72}"
            ]
          },
          "metadata": {},
          "execution_count": 8
        }
      ]
    },
    {
      "cell_type": "code",
      "source": [
        "set(usuarios_ds) & set(usuarios_ml)"
      ],
      "metadata": {
        "colab": {
          "base_uri": "https://localhost:8080/"
        },
        "id": "ix2za9KPNtDh",
        "outputId": "5980119c-4816-45a3-8271-a1df0ff2341a"
      },
      "execution_count": null,
      "outputs": [
        {
          "output_type": "execute_result",
          "data": {
            "text/plain": [
              "{15, 56}"
            ]
          },
          "metadata": {},
          "execution_count": 9
        }
      ]
    },
    {
      "cell_type": "code",
      "source": [
        "usuarios_sin_ml = set(usuarios_ds) - set(usuarios_ml)\n",
        "usuarios_sin_ml"
      ],
      "metadata": {
        "colab": {
          "base_uri": "https://localhost:8080/"
        },
        "id": "n2gqTYXAPd0A",
        "outputId": "f4874635-3908-4140-fb4b-f43ee1a5415d"
      },
      "execution_count": null,
      "outputs": [
        {
          "output_type": "execute_result",
          "data": {
            "text/plain": [
              "{23, 43}"
            ]
          },
          "metadata": {},
          "execution_count": 10
        }
      ]
    },
    {
      "cell_type": "code",
      "source": [
        "set(usuarios_ds) ^ set(usuarios_ml)"
      ],
      "metadata": {
        "colab": {
          "base_uri": "https://localhost:8080/"
        },
        "id": "HtYRff6TPufV",
        "outputId": "0c32b0c8-2022-4255-a600-c537cc4a5d0c"
      },
      "execution_count": null,
      "outputs": [
        {
          "output_type": "execute_result",
          "data": {
            "text/plain": [
              "{23, 43, 65, 72}"
            ]
          },
          "metadata": {},
          "execution_count": 11
        }
      ]
    },
    {
      "cell_type": "code",
      "source": [
        "usuarios = {1, 5, 32, 68, 78, 99, 37}\n",
        "usuarios.add(99)\n",
        "usuarios"
      ],
      "metadata": {
        "colab": {
          "base_uri": "https://localhost:8080/"
        },
        "id": "WKGggD2YQIlc",
        "outputId": "376bbd04-583c-490a-96ed-ab93a5934abc"
      },
      "execution_count": null,
      "outputs": [
        {
          "output_type": "execute_result",
          "data": {
            "text/plain": [
              "{1, 5, 32, 37, 68, 78, 99}"
            ]
          },
          "metadata": {},
          "execution_count": 12
        }
      ]
    },
    {
      "cell_type": "code",
      "source": [
        "usuarios.add(9)\n",
        "usuarios"
      ],
      "metadata": {
        "colab": {
          "base_uri": "https://localhost:8080/"
        },
        "id": "-bTYtVu-SxS2",
        "outputId": "4bc8d8a9-a943-4825-9736-cf28ba18991e"
      },
      "execution_count": null,
      "outputs": [
        {
          "output_type": "execute_result",
          "data": {
            "text/plain": [
              "{1, 5, 9, 32, 37, 68, 78, 99}"
            ]
          },
          "metadata": {},
          "execution_count": 13
        }
      ]
    },
    {
      "cell_type": "code",
      "source": [
        "usuarios.remove(99)\n",
        "usuarios"
      ],
      "metadata": {
        "colab": {
          "base_uri": "https://localhost:8080/"
        },
        "id": "NTkoHzfdS2CG",
        "outputId": "610977b9-884a-43a1-d77b-58cccbdb04ca"
      },
      "execution_count": null,
      "outputs": [
        {
          "output_type": "execute_result",
          "data": {
            "text/plain": [
              "{1, 5, 9, 32, 37, 68, 78}"
            ]
          },
          "metadata": {},
          "execution_count": 14
        }
      ]
    },
    {
      "cell_type": "code",
      "source": [
        "usuarios.discard(99)\n",
        "usuarios"
      ],
      "metadata": {
        "colab": {
          "base_uri": "https://localhost:8080/"
        },
        "id": "zPAn_m7fTJ8n",
        "outputId": "70bff7bf-36ec-41e1-d4f9-02e75e5f56eb"
      },
      "execution_count": null,
      "outputs": [
        {
          "output_type": "execute_result",
          "data": {
            "text/plain": [
              "{1, 5, 9, 32, 37, 68, 78}"
            ]
          },
          "metadata": {},
          "execution_count": 15
        }
      ]
    },
    {
      "cell_type": "code",
      "source": [
        "25 in usuarios"
      ],
      "metadata": {
        "colab": {
          "base_uri": "https://localhost:8080/"
        },
        "id": "_h3wkE5bTQsi",
        "outputId": "9b023ba9-ff91-4f22-94cd-9a59693df558"
      },
      "execution_count": null,
      "outputs": [
        {
          "output_type": "execute_result",
          "data": {
            "text/plain": [
              "False"
            ]
          },
          "metadata": {},
          "execution_count": 16
        }
      ]
    },
    {
      "cell_type": "code",
      "source": [
        "9 in usuarios"
      ],
      "metadata": {
        "colab": {
          "base_uri": "https://localhost:8080/"
        },
        "id": "qO1WSZfmTaV2",
        "outputId": "e8a79e8c-61fd-4203-e848-2fd78643f5cd"
      },
      "execution_count": null,
      "outputs": [
        {
          "output_type": "execute_result",
          "data": {
            "text/plain": [
              "True"
            ]
          },
          "metadata": {},
          "execution_count": 17
        }
      ]
    },
    {
      "cell_type": "code",
      "source": [
        "usuarios.clear()"
      ],
      "metadata": {
        "id": "Ts3hpBwnTc9M"
      },
      "execution_count": null,
      "outputs": []
    },
    {
      "cell_type": "code",
      "source": [
        "usuarios"
      ],
      "metadata": {
        "colab": {
          "base_uri": "https://localhost:8080/"
        },
        "id": "qfqNhmf9TlF8",
        "outputId": "69a6f51f-6387-4b5d-ff7c-9d03939dc3d9"
      },
      "execution_count": null,
      "outputs": [
        {
          "output_type": "execute_result",
          "data": {
            "text/plain": [
              "set()"
            ]
          },
          "metadata": {},
          "execution_count": 19
        }
      ]
    },
    {
      "cell_type": "code",
      "source": [
        "\n",
        "\n",
        "\n",
        "usuarios = {1, 5, 32, 68, 78, 99, 37}\n",
        "usuarios = frozenset(usuarios)\n",
        "type(usuarios)"
      ],
      "metadata": {
        "colab": {
          "base_uri": "https://localhost:8080/"
        },
        "id": "g4mDFP8qTmNb",
        "outputId": "339952ea-2035-485b-b6c8-92fc67e6576d"
      },
      "execution_count": null,
      "outputs": [
        {
          "output_type": "execute_result",
          "data": {
            "text/plain": [
              "frozenset"
            ]
          },
          "metadata": {},
          "execution_count": 20
        }
      ]
    },
    {
      "cell_type": "code",
      "source": [
        "usuarios.add(9)"
      ],
      "metadata": {
        "colab": {
          "base_uri": "https://localhost:8080/",
          "height": 179
        },
        "id": "TswdXPDWT5dv",
        "outputId": "db7ed8b2-7055-4220-8470-02642f6e3849"
      },
      "execution_count": null,
      "outputs": [
        {
          "output_type": "error",
          "ename": "AttributeError",
          "evalue": "ignored",
          "traceback": [
            "\u001b[0;31m---------------------------------------------------------------------------\u001b[0m",
            "\u001b[0;31mAttributeError\u001b[0m                            Traceback (most recent call last)",
            "\u001b[0;32m<ipython-input-21-f819eb3def0f>\u001b[0m in \u001b[0;36m<cell line: 1>\u001b[0;34m()\u001b[0m\n\u001b[0;32m----> 1\u001b[0;31m \u001b[0musuarios\u001b[0m\u001b[0;34m.\u001b[0m\u001b[0madd\u001b[0m\u001b[0;34m(\u001b[0m\u001b[0;36m9\u001b[0m\u001b[0;34m)\u001b[0m\u001b[0;34m\u001b[0m\u001b[0;34m\u001b[0m\u001b[0m\n\u001b[0m",
            "\u001b[0;31mAttributeError\u001b[0m: 'frozenset' object has no attribute 'add'"
          ]
        }
      ]
    },
    {
      "cell_type": "code",
      "source": [
        "mi_texto = 'Mi nombre es Álvaro, tengo 39 años, tengo 2 hijos, tengo 2 perros, me encanta la tecnología, me encanta la ciencia de datos.'\n",
        "mi_texto.split()"
      ],
      "metadata": {
        "colab": {
          "base_uri": "https://localhost:8080/"
        },
        "id": "OJJ1oPmiT8ZO",
        "outputId": "41ae12ab-c0a4-4226-d328-c94297eb357b"
      },
      "execution_count": null,
      "outputs": [
        {
          "output_type": "execute_result",
          "data": {
            "text/plain": [
              "['Mi',\n",
              " 'nombre',\n",
              " 'es',\n",
              " 'Álvaro,',\n",
              " 'tengo',\n",
              " '39',\n",
              " 'años,',\n",
              " 'tengo',\n",
              " '2',\n",
              " 'hijos,',\n",
              " 'tengo',\n",
              " '2',\n",
              " 'perros,',\n",
              " 'me',\n",
              " 'encanta',\n",
              " 'la',\n",
              " 'tecnología,',\n",
              " 'me',\n",
              " 'encanta',\n",
              " 'la',\n",
              " 'ciencia',\n",
              " 'de',\n",
              " 'datos.']"
            ]
          },
          "metadata": {},
          "execution_count": 22
        }
      ]
    },
    {
      "cell_type": "code",
      "source": [
        "set(mi_texto.split())"
      ],
      "metadata": {
        "colab": {
          "base_uri": "https://localhost:8080/"
        },
        "id": "EVYr6SBeUlpY",
        "outputId": "c14d76f5-d1dd-4de0-d191-22dad5fec064"
      },
      "execution_count": null,
      "outputs": [
        {
          "output_type": "execute_result",
          "data": {
            "text/plain": [
              "{'2',\n",
              " '39',\n",
              " 'Mi',\n",
              " 'años,',\n",
              " 'ciencia',\n",
              " 'datos.',\n",
              " 'de',\n",
              " 'encanta',\n",
              " 'es',\n",
              " 'hijos,',\n",
              " 'la',\n",
              " 'me',\n",
              " 'nombre',\n",
              " 'perros,',\n",
              " 'tecnología,',\n",
              " 'tengo',\n",
              " 'Álvaro,'}"
            ]
          },
          "metadata": {},
          "execution_count": 23
        }
      ]
    },
    {
      "cell_type": "code",
      "source": [
        "print(len(mi_texto.split()))\n",
        "print(len(set(mi_texto.split())))"
      ],
      "metadata": {
        "colab": {
          "base_uri": "https://localhost:8080/"
        },
        "id": "J38WM65KUugh",
        "outputId": "1a249288-5e62-44f2-bbf2-a8ffaa333ac8"
      },
      "execution_count": null,
      "outputs": [
        {
          "output_type": "stream",
          "name": "stdout",
          "text": [
            "23\n",
            "17\n"
          ]
        }
      ]
    }
  ]
}